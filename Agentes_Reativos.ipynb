{
  "nbformat": 4,
  "nbformat_minor": 0,
  "metadata": {
    "colab": {
      "provenance": [],
      "collapsed_sections": [],
      "authorship_tag": "ABX9TyPRuRCyM7ykSznUavIn3gQK",
      "include_colab_link": true
    },
    "kernelspec": {
      "name": "python3",
      "display_name": "Python 3"
    },
    "language_info": {
      "name": "python"
    }
  },
  "cells": [
    {
      "cell_type": "markdown",
      "metadata": {
        "id": "view-in-github",
        "colab_type": "text"
      },
      "source": [
        "<a href=\"https://colab.research.google.com/github/Jbragantino/Agentes-Reativos/blob/main/Agentes_Reativos.ipynb\" target=\"_parent\"><img src=\"https://colab.research.google.com/assets/colab-badge.svg\" alt=\"Open In Colab\"/></a>"
      ]
    },
    {
      "cell_type": "code",
      "execution_count": 302,
      "metadata": {
        "id": "mac-FcTFQ8TD"
      },
      "outputs": [],
      "source": [
        "import numpy as np\n",
        "import matplotlib.pyplot as plt\n",
        "import random\n",
        "\n",
        "# Função que exibe o ambiente na tela\n",
        "def exibir(matriz):\n",
        "    global posX\n",
        "    global posY\n",
        "    \n",
        "    # Altera o esquema de cores do ambiente\n",
        "    plt.imshow(matriz, 'gray')\n",
        "    plt.nipy_spectral() \n",
        "    \n",
        "    # Coloca o agente no ambiente \n",
        "    plt.plot([posX],[posY], marker='o', color='r', ms=20, ls='')\n",
        "    \n",
        "    plt.show(block=False)\n",
        "    \n",
        "    # Pausa a execução do código por 0.5 segundos para facilitar a visualização\n",
        "    plt.pause(0.5)    \n",
        "    plt.clf()"
      ]
    },
    {
      "cell_type": "code",
      "source": [
        "from enum import Enum\n",
        "\n",
        "class Direcao(Enum):\n",
        "  CIMA = 1\n",
        "  BAIXO = 2\n",
        "  DIREITA = 3\n",
        "  ESQUERDA = 4\n",
        "  LIMPAR = 5\n",
        "  MOSCAR = 6"
      ],
      "metadata": {
        "id": "_utvB7Qwyn70"
      },
      "execution_count": 303,
      "outputs": []
    },
    {
      "cell_type": "code",
      "source": [
        "#Caminho da matriz\n",
        "caminho = np.array([[Direcao.MOSCAR,  Direcao.MOSCAR,  Direcao.MOSCAR,   Direcao.MOSCAR,   Direcao.MOSCAR,   Direcao.MOSCAR],\n",
        "                    [Direcao.MOSCAR,  Direcao.BAIXO,   Direcao.ESQUERDA, Direcao.BAIXO,    Direcao.ESQUERDA, Direcao.MOSCAR],\n",
        "                    [Direcao.MOSCAR,  Direcao.BAIXO,   Direcao.CIMA,     Direcao.ESQUERDA, Direcao.CIMA,     Direcao.MOSCAR],\n",
        "                    [Direcao.MOSCAR,  Direcao.BAIXO,   Direcao.DIREITA,  Direcao.BAIXO,    Direcao.CIMA,     Direcao.MOSCAR],\n",
        "                    [Direcao.MOSCAR,  Direcao.DIREITA, Direcao.CIMA,     Direcao.DIREITA,  Direcao.CIMA,     Direcao.MOSCAR],\n",
        "                    [Direcao.MOSCAR,  Direcao.MOSCAR,  Direcao.MOSCAR,   Direcao.MOSCAR,   Direcao.MOSCAR,   Direcao.MOSCAR]])\n"
      ],
      "metadata": {
        "id": "5ohPdgnsz3_9"
      },
      "execution_count": 304,
      "outputs": []
    },
    {
      "cell_type": "code",
      "source": [
        "def add_suj(sujY, sujX):\n",
        "  global suj_total\n",
        "  if matriz[sujY][sujX] != 0 or (sujY == posY and sujX == posX):\n",
        "    return\n",
        "  else:\n",
        "    matriz[sujY][sujX] = 2\n",
        "    suj_total += 1"
      ],
      "metadata": {
        "id": "AAUTiwDgVh0k"
      },
      "execution_count": 305,
      "outputs": []
    },
    {
      "cell_type": "code",
      "source": [
        "def andar(acao):\n",
        "  global posX, posY\n",
        "  global suj_total\n",
        "  if acao == Direcao.CIMA:\n",
        "    posY -= 1\n",
        "    return\n",
        "  elif acao == Direcao.BAIXO:\n",
        "    posY += 1\n",
        "    return\n",
        "  elif acao == Direcao.DIREITA:\n",
        "    posX += 1\n",
        "    return\n",
        "  elif acao == Direcao.ESQUERDA:\n",
        "    posX -= 1\n",
        "    return\n",
        "  elif acao == Direcao.LIMPAR:\n",
        "    matriz[posY][posX] = 0\n",
        "    suj_total -= 1\n",
        "    return\n",
        "  elif acao == Direcao.MOSCAR:\n",
        "    return"
      ],
      "metadata": {
        "id": "dgvLv0-RyXDJ"
      },
      "execution_count": 306,
      "outputs": []
    },
    {
      "cell_type": "code",
      "source": [
        "def caminho_simples():\n",
        "  global posX, posY\n",
        "  global caminho\n",
        "  global suj_total\n",
        "  \n",
        "  while suj_total > 0:\n",
        "\n",
        "    if(matriz[posY][posX] == 2):\n",
        "      acao = Direcao.LIMPAR\n",
        "    else:\n",
        "      acao = caminho[posY][posX]\n",
        "\n",
        "    andar(acao)\n",
        "\n",
        "    exibir(matriz)"
      ],
      "metadata": {
        "id": "QNhEVjK82fhA"
      },
      "execution_count": 307,
      "outputs": []
    },
    {
      "cell_type": "code",
      "source": [
        "def procura_sujeira(posX, posY):\n",
        "\n",
        "  #iniciar as variáveis\n",
        "  sujX, sujY = 0, 0\n",
        "  dist = 1000\n",
        "\n",
        "  for count in range(len(matriz)):\n",
        "    for i in range(1, count):\n",
        "      for j in range(1, count):\n",
        "        if matriz[i][j] == 2:\n",
        "          dist_temp = abs(j-posX) + abs(i-posY)\n",
        "          if dist_temp < dist:\n",
        "            sujY, sujX = i, j\n",
        "            dist = abs(sujX-posX) + abs(sujY-posY)\n",
        "  \n",
        "  return sujX, sujY"
      ],
      "metadata": {
        "id": "c0Nys3Ax6xmj"
      },
      "execution_count": 385,
      "outputs": []
    },
    {
      "cell_type": "code",
      "source": [
        "def reativo_objetivo():\n",
        "  global posX, posY\n",
        "  global suj_total\n",
        "\n",
        "  ptos = 0\n",
        "\n",
        "  acao = Direcao.MOSCAR\n",
        "\n",
        "  while suj_total > 0:\n",
        "\n",
        "    sujX, sujY = procura_sujeira(posX, posY)\n",
        "\n",
        "    if matriz[posY][posX] == 2:\n",
        "      acao = Direcao.LIMPAR\n",
        "      andar(acao)\n",
        "    elif posX < sujX:\n",
        "      acao = Direcao.DIREITA\n",
        "      andar(acao)\n",
        "    elif posX > sujX:\n",
        "      acao = Direcao.ESQUERDA\n",
        "      andar(acao)\n",
        "    elif posY < sujY:\n",
        "      acao = Direcao.BAIXO\n",
        "      andar(acao)\n",
        "    elif posY > sujY:\n",
        "      acao = Direcao.CIMA\n",
        "      andar(acao)\n",
        "\n",
        "    ptos += 1\n",
        "    exibir(matriz)\n",
        "\n",
        "  print(\"Pontos = \",ptos)"
      ],
      "metadata": {
        "id": "4Bomf5n8cRXZ"
      },
      "execution_count": 309,
      "outputs": []
    },
    {
      "cell_type": "code",
      "source": [
        "from random import randint as rn\n",
        "\n",
        "matriz = np.array([ [1, 1, 1, 1, 1, 1],\n",
        "                    [1, 0, 0, 2, 0, 1],\n",
        "                    [1, 0, 0, 0, 0, 1],\n",
        "                    [1, 0, 0, 0, 0, 1],\n",
        "                    [1, 0, 2, 0, 0, 1],\n",
        "                    [1, 1, 1, 1, 1, 1]])\n",
        "suj_total = 2"
      ],
      "metadata": {
        "id": "w2fRk610ROuf"
      },
      "execution_count": 310,
      "outputs": []
    },
    {
      "cell_type": "markdown",
      "source": [
        "Agente Reativo Simples\n"
      ],
      "metadata": {
        "id": "JrV3ChlQZ5QG"
      }
    },
    {
      "cell_type": "code",
      "source": [
        "posX, posY = rn(1,4), rn(1,4)\n",
        "\n",
        "while suj_total < 3:\n",
        "  add_suj(rn(1,4),rn(1,4))\n",
        "\n",
        "exibir(matriz)\n",
        "caminho_simples()"
      ],
      "metadata": {
        "id": "P8o-HgAnZ7fm"
      },
      "execution_count": null,
      "outputs": []
    },
    {
      "cell_type": "markdown",
      "source": [
        "Agente Reativo Objetivo"
      ],
      "metadata": {
        "id": "Zb6GGWYQZ9u1"
      }
    },
    {
      "cell_type": "code",
      "source": [
        "from random import randint as rn\n",
        "\n",
        "matriz = np.array([ [1, 1, 1, 1, 1, 1],\n",
        "                    [1, 0, 0, 0, 0, 1],\n",
        "                    [1, 0, 0, 0, 0, 1],\n",
        "                    [1, 0, 0, 0, 0, 1],\n",
        "                    [1, 0, 0, 0, 0, 1],\n",
        "                    [1, 1, 1, 1, 1, 1]])\n",
        "suj_total = 0\n",
        "\n",
        "posX, posY = 1, 1\n",
        "\n",
        "while suj_total < 3:\n",
        "  add_suj(rn(1,4),rn(1,4))\n",
        "\n",
        "exibir(matriz)\n",
        "reativo_objetivo()"
      ],
      "metadata": {
        "colab": {
          "base_uri": "https://localhost:8080/",
          "height": 1000
        },
        "id": "19wfaxwVaCGl",
        "outputId": "a88a3722-549c-440d-b6c6-9c654959fec1"
      },
      "execution_count": 387,
      "outputs": [
        {
          "output_type": "display_data",
          "data": {
            "text/plain": [
              "<Figure size 432x288 with 1 Axes>"
            ],
            "image/png": "[encoded data removed]"
          },
          "metadata": {
            "needs_background": "light"
          }
        },
        {
          "output_type": "display_data",
          "data": {
            "text/plain": [
              "<Figure size 432x288 with 1 Axes>"
            ],
            "image/png": "[encoded data removed]"
          },
          "metadata": {
            "needs_background": "light"
          }
        },
        {
          "output_type": "display_data",
          "data": {
            "text/plain": [
              "<Figure size 432x288 with 1 Axes>"
            ],
            "image/png": "[encoded data removed]"
          },
          "metadata": {
            "needs_background": "light"
          }
        },
        {
          "output_type": "display_data",
          "data": {
            "text/plain": [
              "<Figure size 432x288 with 1 Axes>"
            ],
            "image/png": "[encoded data removed]"
          },
          "metadata": {
            "needs_background": "light"
          }
        },
        {
          "output_type": "display_data",
          "data": {
            "text/plain": [
              "<Figure size 432x288 with 1 Axes>"
            ],
            "image/png": "[encoded data removed]"
          },
          "metadata": {
            "needs_background": "light"
          }
        },
        {
          "output_type": "display_data",
          "data": {
            "text/plain": [
              "<Figure size 432x288 with 1 Axes>"
            ],
            "image/png": "[encoded data removed]"
          },
          "metadata": {
            "needs_background": "light"
          }
        },
        {
          "output_type": "display_data",
          "data": {
            "text/plain": [
              "<Figure size 432x288 with 1 Axes>"
            ],
            "image/png": "[encoded data removed]"
          },
          "metadata": {
            "needs_background": "light"
          }
        },
        {
          "output_type": "display_data",
          "data": {
            "text/plain": [
              "<Figure size 432x288 with 1 Axes>"
            ],
            "image/png": "[encoded data removed]"
          },
          "metadata": {
            "needs_background": "light"
          }
        },
        {
          "output_type": "display_data",
          "data": {
            "text/plain": [
              "<Figure size 432x288 with 1 Axes>"
            ],
            "image/png": "[encoded data removed]"
          },
          "metadata": {
            "needs_background": "light"
          }
        },
        {
          "output_type": "display_data",
          "data": {
            "text/plain": [
              "<Figure size 432x288 with 1 Axes>"
            ],
            "image/png": "[encoded data removed]"
          },
          "metadata": {
            "needs_background": "light"
          }
        },
        {
          "output_type": "display_data",
          "data": {
            "text/plain": [
              "<Figure size 432x288 with 1 Axes>"
            ],
            "image/png": "[encoded data removed]"
          },
          "metadata": {
            "needs_background": "light"
          }
        },
        {
          "output_type": "stream",
          "name": "stdout",
          "text": [
            "Pontos =  10\n"
          ]
        },
        {
          "output_type": "display_data",
          "data": {
            "text/plain": [
              "<Figure size 432x288 with 0 Axes>"
            ]
          },
          "metadata": {}
        }
      ]
    }
  ]
}
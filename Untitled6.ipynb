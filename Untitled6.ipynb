{
  "nbformat": 4,
  "nbformat_minor": 0,
  "metadata": {
    "colab": {
      "provenance": [],
      "collapsed_sections": [],
      "authorship_tag": "ABX9TyMUsBo0sva3+9SiDpWJHOx3"
    },
    "kernelspec": {
      "name": "python3",
      "display_name": "Python 3"
    },
    "language_info": {
      "name": "python"
    }
  },
  "cells": [
    {
      "cell_type": "code",
      "execution_count": null,
      "metadata": {
        "id": "mac-FcTFQ8TD"
      },
      "outputs": [],
      "source": [
        "import numpy as np\n",
        "import matplotlib.pyplot as plt\n",
        "import random\n",
        "\n",
        "# Função que exibe o ambiente na tela\n",
        "def exibir(matriz):\n",
        "    global posX\n",
        "    global posY\n",
        "    \n",
        "    # Altera o esquema de cores do ambiente\n",
        "    plt.imshow(matriz, 'gray')\n",
        "    plt.nipy_spectral() \n",
        "    \n",
        "    # Coloca o agente no ambiente \n",
        "    plt.plot([posX],[posY], marker='o', color='r', ms=20, ls='')\n",
        "    \n",
        "    plt.show(block=False)\n",
        "    \n",
        "    # Pausa a execução do código por 0.5 segundos para facilitar a visualização\n",
        "    plt.pause(1)    \n",
        "    plt.clf()"
      ]
    },
    {
      "cell_type": "code",
      "source": [
        "from enum import Enum\n",
        "\n",
        "class Direcao(Enum):\n",
        "  CIMA = 1\n",
        "  BAIXO = 2\n",
        "  DIREITA = 3\n",
        "  ESQUERDA = 4\n",
        "  LIMPAR = 5\n",
        "  MOSCAR = 6"
      ],
      "metadata": {
        "id": "_utvB7Qwyn70"
      },
      "execution_count": null,
      "outputs": []
    },
    {
      "cell_type": "code",
      "source": [
        "#Caminho da matriz\n",
        "caminho = np.array([[Direcao.MOSCAR,  Direcao.MOSCAR,  Direcao.MOSCAR,   Direcao.MOSCAR,   Direcao.MOSCAR,   Direcao.MOSCAR],\n",
        "                    [Direcao.MOSCAR,  Direcao.BAIXO,   Direcao.ESQUERDA, Direcao.BAIXO,    Direcao.ESQUERDA, Direcao.MOSCAR],\n",
        "                    [Direcao.MOSCAR,  Direcao.BAIXO,   Direcao.CIMA,     Direcao.ESQUERDA, Direcao.CIMA,     Direcao.MOSCAR],\n",
        "                    [Direcao.MOSCAR,  Direcao.BAIXO,   Direcao.DIREITA,  Direcao.BAIXO,    Direcao.CIMA,     Direcao.MOSCAR],\n",
        "                    [Direcao.MOSCAR,  Direcao.DIREITA, Direcao.CIMA,     Direcao.DIREITA,  Direcao.CIMA,     Direcao.MOSCAR],\n",
        "                    [Direcao.MOSCAR,  Direcao.MOSCAR,  Direcao.MOSCAR,   Direcao.MOSCAR,   Direcao.MOSCAR,   Direcao.MOSCAR]])\n"
      ],
      "metadata": {
        "id": "5ohPdgnsz3_9"
      },
      "execution_count": null,
      "outputs": []
    },
    {
      "cell_type": "code",
      "source": [
        "def add_suj(sujY, sujX):\n",
        "  global suj_total\n",
        "  if matriz[sujY][sujX] != 0 or (sujY == posY and sujX == posX):\n",
        "    return\n",
        "  else:\n",
        "    matriz[sujY][sujX] = 2\n",
        "    suj_total += 1"
      ],
      "metadata": {
        "id": "AAUTiwDgVh0k"
      },
      "execution_count": null,
      "outputs": []
    },
    {
      "cell_type": "code",
      "source": [
        "def caminho_simples():\n",
        "  global posX, posY\n",
        "  global caminho\n",
        "  global suj_total\n",
        "  \n",
        "  while suj_total > 0:\n",
        "\n",
        "    if(matriz[posY][posX] == 2):\n",
        "      acao = Direcao.LIMPAR\n",
        "    else:\n",
        "      acao = caminho[posY][posX]\n",
        "\n",
        "    print(acao)\n",
        "    if acao == Direcao.CIMA:\n",
        "      posY -= 1\n",
        "    elif acao == Direcao.BAIXO:\n",
        "      posY += 1\n",
        "    elif acao == Direcao.DIREITA:\n",
        "      posX += 1\n",
        "    elif acao == Direcao.ESQUERDA:\n",
        "      posX -= 1\n",
        "    elif acao == Direcao.LIMPAR:\n",
        "      matriz[posY][posX] = 0\n",
        "      suj_total -= 1\n",
        "    elif acao == Direcao.MOSCAR:\n",
        "      return\n",
        "\n",
        "    exibir(matriz)\n"
      ],
      "metadata": {
        "id": "QNhEVjK82fhA"
      },
      "execution_count": null,
      "outputs": []
    },
    {
      "cell_type": "code",
      "source": [
        "from random import randint as rn\n",
        "\n",
        "matriz = np.array([[1, 1, 1, 1, 1, 1],\n",
        "                  [1, 0, 0, 0, 0, 1],\n",
        "                  [1, 0, 0, 0, 0, 1],\n",
        "                  [1, 0, 0, 0, 0, 1],\n",
        "                  [1, 0, 0, 0, 0, 1],\n",
        "                  [1, 1, 1, 1, 1, 1]])\n",
        "\n",
        "suj_total = 0\n",
        "\n",
        "posX, posY = rn(1,4), rn(1,4)\n",
        "\n",
        "while suj_total < 3:\n",
        "  add_suj(rn(1,4),rn(1,4))\n",
        "\n",
        "exibir(matriz)\n",
        "\n",
        "caminho_simples()"
      ],
      "metadata": {
        "id": "w2fRk610ROuf",
        "colab": {
          "base_uri": "https://localhost:8080/",
          "height": 1000
        },
        "outputId": "c775132c-0fb8-47b5-9ff6-3da64d465559"
      },
      "execution_count": null,
      "outputs": [
        {
          "output_type": "display_data",
          "data": {
            "text/plain": [
              "<Figure size 432x288 with 1 Axes>"
            ],
            "image/png": "[encoded data removed]"
          },
          "metadata": {
            "needs_background": "light"
          }
        },
        {
          "output_type": "stream",
          "name": "stdout",
          "text": [
            "Direcao.CIMA\n"
          ]
        },
        {
          "output_type": "display_data",
          "data": {
            "text/plain": [
              "<Figure size 432x288 with 1 Axes>"
            ],
            "image/png": "[encoded data removed]"
          },
          "metadata": {
            "needs_background": "light"
          }
        },
        {
          "output_type": "stream",
          "name": "stdout",
          "text": [
            "Direcao.ESQUERDA\n"
          ]
        },
        {
          "output_type": "display_data",
          "data": {
            "text/plain": [
              "<Figure size 432x288 with 1 Axes>"
            ],
            "image/png": "[encoded data removed]"
          },
          "metadata": {
            "needs_background": "light"
          }
        },
        {
          "output_type": "stream",
          "name": "stdout",
          "text": [
            "Direcao.BAIXO\n"
          ]
        },
        {
          "output_type": "display_data",
          "data": {
            "text/plain": [
              "<Figure size 432x288 with 1 Axes>"
            ],
            "image/png": "[encoded data removed]"
          },
          "metadata": {
            "needs_background": "light"
          }
        },
        {
          "output_type": "stream",
          "name": "stdout",
          "text": [
            "Direcao.LIMPAR\n"
          ]
        },
        {
          "output_type": "display_data",
          "data": {
            "text/plain": [
              "<Figure size 432x288 with 1 Axes>"
            ],
            "image/png": "[encoded data removed]"
          },
          "metadata": {
            "needs_background": "light"
          }
        },
        {
          "output_type": "stream",
          "name": "stdout",
          "text": [
            "Direcao.ESQUERDA\n"
          ]
        },
        {
          "output_type": "display_data",
          "data": {
            "text/plain": [
              "<Figure size 432x288 with 1 Axes>"
            ],
            "image/png": "[encoded data removed]"
          },
          "metadata": {
            "needs_background": "light"
          }
        },
        {
          "output_type": "stream",
          "name": "stdout",
          "text": [
            "Direcao.CIMA\n"
          ]
        },
        {
          "output_type": "display_data",
          "data": {
            "text/plain": [
              "<Figure size 432x288 with 1 Axes>"
            ],
            "image/png": "[encoded data removed]"
          },
          "metadata": {
            "needs_background": "light"
          }
        },
        {
          "output_type": "stream",
          "name": "stdout",
          "text": [
            "Direcao.ESQUERDA\n"
          ]
        },
        {
          "output_type": "display_data",
          "data": {
            "text/plain": [
              "<Figure size 432x288 with 1 Axes>"
            ],
            "image/png": "[encoded data removed]"
          },
          "metadata": {
            "needs_background": "light"
          }
        },
        {
          "output_type": "stream",
          "name": "stdout",
          "text": [
            "Direcao.BAIXO\n"
          ]
        },
        {
          "output_type": "display_data",
          "data": {
            "text/plain": [
              "<Figure size 432x288 with 1 Axes>"
            ],
            "image/png": "[encoded data removed]"
          },
          "metadata": {
            "needs_background": "light"
          }
        },
        {
          "output_type": "stream",
          "name": "stdout",
          "text": [
            "Direcao.LIMPAR\n"
          ]
        },
        {
          "output_type": "display_data",
          "data": {
            "text/plain": [
              "<Figure size 432x288 with 1 Axes>"
            ],
            "image/png": "[encoded data removed]"
          },
          "metadata": {
            "needs_background": "light"
          }
        },
        {
          "output_type": "stream",
          "name": "stdout",
          "text": [
            "Direcao.BAIXO\n"
          ]
        },
        {
          "output_type": "display_data",
          "data": {
            "text/plain": [
              "<Figure size 432x288 with 1 Axes>"
            ],
            "image/png": "[encoded data removed]"
          },
          "metadata": {
            "needs_background": "light"
          }
        },
        {
          "output_type": "stream",
          "name": "stdout",
          "text": [
            "Direcao.BAIXO\n"
          ]
        },
        {
          "output_type": "display_data",
          "data": {
            "text/plain": [
              "<Figure size 432x288 with 1 Axes>"
            ],
            "image/png": "[encoded data removed]"
          },
          "metadata": {
            "needs_background": "light"
          }
        },
        {
          "output_type": "stream",
          "name": "stdout",
          "text": [
            "Direcao.DIREITA\n"
          ]
        },
        {
          "output_type": "display_data",
          "data": {
            "text/plain": [
              "<Figure size 432x288 with 1 Axes>"
            ],
            "image/png": "[encoded data removed]"
          },
          "metadata": {
            "needs_background": "light"
          }
        },
        {
          "output_type": "stream",
          "name": "stdout",
          "text": [
            "Direcao.CIMA\n"
          ]
        },
        {
          "output_type": "display_data",
          "data": {
            "text/plain": [
              "<Figure size 432x288 with 1 Axes>"
            ],
            "image/png": "[encoded data removed]"
          },
          "metadata": {
            "needs_background": "light"
          }
        },
        {
          "output_type": "stream",
          "name": "stdout",
          "text": [
            "Direcao.DIREITA\n"
          ]
        },
        {
          "output_type": "display_data",
          "data": {
            "text/plain": [
              "<Figure size 432x288 with 1 Axes>"
            ],
            "image/png": "[encoded data removed]"
          },
          "metadata": {
            "needs_background": "light"
          }
        },
        {
          "output_type": "stream",
          "name": "stdout",
          "text": [
            "Direcao.BAIXO\n"
          ]
        },
        {
          "output_type": "display_data",
          "data": {
            "text/plain": [
              "<Figure size 432x288 with 1 Axes>"
            ],
            "image/png": "[encoded data removed]"
          },
          "metadata": {
            "needs_background": "light"
          }
        },
        {
          "output_type": "stream",
          "name": "stdout",
          "text": [
            "Direcao.DIREITA\n"
          ]
        },
        {
          "output_type": "display_data",
          "data": {
            "text/plain": [
              "<Figure size 432x288 with 1 Axes>"
            ],
            "image/png": "[encoded data removed]"
          },
          "metadata": {
            "needs_background": "light"
          }
        },
        {
          "output_type": "stream",
          "name": "stdout",
          "text": [
            "Direcao.CIMA\n"
          ]
        },
        {
          "output_type": "display_data",
          "data": {
            "text/plain": [
              "<Figure size 432x288 with 1 Axes>"
            ],
            "image/png": "[encoded data removed]"
          },
          "metadata": {
            "needs_background": "light"
          }
        },
        {
          "output_type": "stream",
          "name": "stdout",
          "text": [
            "Direcao.LIMPAR\n"
          ]
        },
        {
          "output_type": "display_data",
          "data": {
            "text/plain": [
              "<Figure size 432x288 with 1 Axes>"
            ],
            "image/png": "[encoded data removed]"
          },
          "metadata": {
            "needs_background": "light"
          }
        },
        {
          "output_type": "display_data",
          "data": {
            "text/plain": [
              "<Figure size 432x288 with 0 Axes>"
            ]
          },
          "metadata": {}
        }
      ]
    }
  ]
}